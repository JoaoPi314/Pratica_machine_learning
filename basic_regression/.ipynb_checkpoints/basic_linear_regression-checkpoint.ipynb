{
 "cells": [
  {
   "cell_type": "markdown",
   "metadata": {},
   "source": [
    "# 2 Algoritmo básico de regressão linear"
   ]
  },
  {
   "cell_type": "markdown",
   "metadata": {},
   "source": [
    "**Esse notebook tem como função mostrar o desenvolvimento de um algoritmo de regressão linear com um dataset simples e com correlação linear. A ideia é entender como funcionam os algoritmos embutidos nos pacotes de machine learning como o scikit.**"
   ]
  },
  {
   "cell_type": "code",
   "execution_count": 2,
   "metadata": {},
   "outputs": [],
   "source": [
    "import numpy as np\n",
    "import matplotlib.pyplot as plt\n",
    "\n",
    "#Linha somente para jupyter notebook\n",
    "%matplotlib inline "
   ]
  },
  {
   "cell_type": "code",
   "execution_count": 3,
   "metadata": {},
   "outputs": [],
   "source": [
    "x = [3, 21, 22, 34, 54, 34, 55, 67, 89, 99]\n",
    "x = np.array(x)\n",
    "y = [1, 10, 14, 34, 44, 36, 22, 67, 79, 90]\n",
    "y = np.array(y)"
   ]
  },
  {
   "cell_type": "code",
   "execution_count": 4,
   "metadata": {},
   "outputs": [
    {
     "data": {
      "text/plain": [
       "<matplotlib.collections.PathCollection at 0x7fc57c09b9d0>"
      ]
     },
     "execution_count": 4,
     "metadata": {},
     "output_type": "execute_result"
    },
    {
     "data": {
      "image/png": "[encoded data removed]",
      "text/plain": [
       "<Figure size 432x288 with 1 Axes>"
      ]
     },
     "metadata": {
      "needs_background": "light"
     },
     "output_type": "display_data"
    }
   ],
   "source": [
    "plt.scatter(x,y)"
   ]
  },
  {
   "cell_type": "markdown",
   "metadata": {},
   "source": [
    "**Vamos definir as funções principais para o algoritmo. São elas:**\n",
    "* Função _model_: Define a regressão linear wx + b\n",
    "* Função _Loss_: função Loss dos erros quadrados mínimos\n",
    "* função _optimize_: Método de gradiente descendente"
   ]
  },
  {
   "cell_type": "code",
   "execution_count": 5,
   "metadata": {},
   "outputs": [],
   "source": [
    "'''\n",
    "Essa função apenas retorna nosso valor predito\n",
    "'''\n",
    "\n",
    "\n",
    "def model(w, b, x):\n",
    "    return w*x + b\n",
    "\n",
    "'''\n",
    "Essa função irá calcular o erro quadrado médio do nosso\n",
    "modelo. Essa métrica é uma das mais usadas e algoritmos de\n",
    "regressão linear.\n",
    "'''\n",
    "\n",
    "\n",
    "def Loss(w, b, x, y):\n",
    "    num = len(x)\n",
    "    prediction = model(w,b,x)\n",
    "    return (0.5/num)*(np.square(prediction - y)).sum()\n",
    "\n",
    "\n",
    "'''\n",
    "Essa função calcula o gradiente da função de custo. Esse gradiente indica\n",
    "a direção que os parâmetros devem ir para reduzirem localmente. O learning rate\n",
    "indica o quão rápido esses parâmetros devem avançar. Quanto mais próximo do \n",
    "mínimo global, menor é o avanço.\n",
    "\n",
    "'''\n",
    "\n",
    "\n",
    "def optimize(w, b, x, y):\n",
    "    num = len(x)\n",
    "    prediction = model(w, b, x)\n",
    "    dw = (1.0/num)*((prediction - y)*x).sum()\n",
    "    db = (1.0/num)*((prediction - y).sum())\n",
    "    \n",
    "    w = w - Lr*dw\n",
    "    b = b - Lr*db\n",
    "    \n",
    "    return w, b\n",
    "\n",
    "'''\n",
    "Essa função é a que treina nosso modelo. De acordo com o número de iterações,\n",
    "a cada iteração, o gradient descent é aplicado (optimize()), quanto maior o \n",
    "número de iterações, mais a reta vai se encaixar em todos os pontos, diminuindo\n",
    "assim o loss.\n",
    "'''\n",
    "\n",
    "\n",
    "def iterate(w, b, x, y, it):\n",
    "    for i in range(it):\n",
    "        w, b = optimize(w, b, x, y)\n",
    "    return w, b"
   ]
  },
  {
   "cell_type": "code",
   "execution_count": 7,
   "metadata": {},
   "outputs": [
    {
     "name": "stdout",
     "output_type": "stream",
     "text": [
      "[0.46957265]\n",
      "[0.91922792]\n"
     ]
    }
   ],
   "source": [
    "w = np.random.rand(1)\n",
    "print(w)\n",
    "b = np.random.rand(1)\n",
    "print(b)"
   ]
  },
  {
   "cell_type": "code",
   "execution_count": 9,
   "metadata": {},
   "outputs": [],
   "source": [
    "#Learning rate\n",
    "Lr = 1e-4"
   ]
  },
  {
   "cell_type": "markdown",
   "metadata": {},
   "source": [
    "**Assim, fazendo uma iteração**"
   ]
  },
  {
   "cell_type": "code",
   "execution_count": 11,
   "metadata": {},
   "outputs": [
    {
     "name": "stdout",
     "output_type": "stream",
     "text": [
      "[0.66740187] [0.92193392] 96.01305945264778\n"
     ]
    },
    {
     "data": {
      "text/plain": [
       "[<matplotlib.lines.Line2D at 0x7fc56d0d7190>]"
      ]
     },
     "execution_count": 11,
     "metadata": {},
     "output_type": "execute_result"
    },
    {
     "data": {
      "image/png": "[encoded data removed]",
      "text/plain": [
       "<Figure size 432x288 with 1 Axes>"
      ]
     },
     "metadata": {
      "needs_background": "light"
     },
     "output_type": "display_data"
    }
   ],
   "source": [
    "w, b = iterate(w, b, x, y, 1)\n",
    "prediction = model(w, b, x)\n",
    "loss = Loss(w, b, x, y)\n",
    "print(w, b, loss)\n",
    "plt.scatter(x,y)\n",
    "plt.plot(x, prediction, 'g-')"
   ]
  },
  {
   "cell_type": "markdown",
   "metadata": {},
   "source": [
    "**Após 2 iterações:**"
   ]
  },
  {
   "cell_type": "code",
   "execution_count": 12,
   "metadata": {},
   "outputs": [
    {
     "name": "stdout",
     "output_type": "stream",
     "text": [
      "[0.76048765] [0.92304518] 58.21867221949996\n"
     ]
    },
    {
     "data": {
      "text/plain": [
       "[<matplotlib.lines.Line2D at 0x7fc56d0ad9d0>]"
      ]
     },
     "execution_count": 12,
     "metadata": {},
     "output_type": "execute_result"
    },
    {
     "data": {
      "image/png": "[encoded data removed]",
      "text/plain": [
       "<Figure size 432x288 with 1 Axes>"
      ]
     },
     "metadata": {
      "needs_background": "light"
     },
     "output_type": "display_data"
    }
   ],
   "source": [
    "w, b = iterate(w, b, x, y, 2)\n",
    "prediction = model(w, b, x)\n",
    "loss = Loss(w, b, x, y)\n",
    "print(w, b, loss)\n",
    "plt.scatter(x,y)\n",
    "plt.plot(x, prediction, 'g-')"
   ]
  },
  {
   "cell_type": "markdown",
   "metadata": {},
   "source": [
    "**Após 3 iterações:**"
   ]
  },
  {
   "cell_type": "code",
   "execution_count": 13,
   "metadata": {},
   "outputs": [
    {
     "name": "stdout",
     "output_type": "stream",
     "text": [
      "[0.81651458] [0.92343926] 48.59095741301846\n"
     ]
    },
    {
     "data": {
      "text/plain": [
       "[<matplotlib.lines.Line2D at 0x7fc56d04a130>]"
      ]
     },
     "execution_count": 13,
     "metadata": {},
     "output_type": "execute_result"
    },
    {
     "data": {
      "image/png": "[encoded data removed]",
      "text/plain": [
       "<Figure size 432x288 with 1 Axes>"
      ]
     },
     "metadata": {
      "needs_background": "light"
     },
     "output_type": "display_data"
    }
   ],
   "source": [
    "w, b = iterate(w, b, x, y, 3)\n",
    "prediction = model(w, b, x)\n",
    "loss = Loss(w, b, x, y)\n",
    "print(w, b, loss)\n",
    "plt.scatter(x,y)\n",
    "plt.plot(x, prediction, 'g-')"
   ]
  },
  {
   "cell_type": "markdown",
   "metadata": {},
   "source": [
    "**Após 4 iterações:**"
   ]
  },
  {
   "cell_type": "code",
   "execution_count": 14,
   "metadata": {},
   "outputs": [
    {
     "name": "stdout",
     "output_type": "stream",
     "text": [
      "[0.83731067] [0.92314402] 47.52542726294931\n"
     ]
    },
    {
     "data": {
      "text/plain": [
       "[<matplotlib.lines.Line2D at 0x7fc56cfdf6d0>]"
      ]
     },
     "execution_count": 14,
     "metadata": {},
     "output_type": "execute_result"
    },
    {
     "data": {
      "image/png": "[encoded data removed]",
      "text/plain": [
       "<Figure size 432x288 with 1 Axes>"
      ]
     },
     "metadata": {
      "needs_background": "light"
     },
     "output_type": "display_data"
    }
   ],
   "source": [
    "w, b = iterate(w, b, x, y, 4)\n",
    "prediction = model(w, b, x)\n",
    "loss = Loss(w, b, x, y)\n",
    "print(w, b, loss)\n",
    "plt.scatter(x,y)\n",
    "plt.plot(x, prediction, 'g-')"
   ]
  },
  {
   "cell_type": "markdown",
   "metadata": {},
   "source": [
    "**Após 5 iterações:**"
   ]
  },
  {
   "cell_type": "code",
   "execution_count": 15,
   "metadata": {},
   "outputs": [
    {
     "name": "stdout",
     "output_type": "stream",
     "text": [
      "[0.8423353] [0.92245578] 47.47065320981323\n"
     ]
    },
    {
     "data": {
      "text/plain": [
       "[<matplotlib.lines.Line2D at 0x7fc56cfb0ca0>]"
      ]
     },
     "execution_count": 15,
     "metadata": {},
     "output_type": "execute_result"
    },
    {
     "data": {
      "image/png": "[encoded data removed]",
      "text/plain": [
       "<Figure size 432x288 with 1 Axes>"
      ]
     },
     "metadata": {
      "needs_background": "light"
     },
     "output_type": "display_data"
    }
   ],
   "source": [
    "w, b = iterate(w, b, x, y, 5)\n",
    "prediction = model(w, b, x)\n",
    "loss = Loss(w, b, x, y)\n",
    "print(w, b, loss)\n",
    "plt.scatter(x,y)\n",
    "plt.plot(x, prediction, 'g-')"
   ]
  },
  {
   "cell_type": "markdown",
   "metadata": {},
   "source": [
    "**Após 10000 iterações**"
   ]
  },
  {
   "cell_type": "code",
   "execution_count": 16,
   "metadata": {},
   "outputs": [
    {
     "name": "stdout",
     "output_type": "stream",
     "text": [
      "[0.86361281] [-0.41609291] 45.66619279226029\n"
     ]
    },
    {
     "data": {
      "text/plain": [
       "[<matplotlib.lines.Line2D at 0x7fc56cf10310>]"
      ]
     },
     "execution_count": 16,
     "metadata": {},
     "output_type": "execute_result"
    },
    {
     "data": {
      "image/png": "[encoded data removed]",
      "text/plain": [
       "<Figure size 432x288 with 1 Axes>"
      ]
     },
     "metadata": {
      "needs_background": "light"
     },
     "output_type": "display_data"
    }
   ],
   "source": [
    "w, b = iterate(w, b, x, y, 10000)\n",
    "prediction = model(w, b, x)\n",
    "loss = Loss(w, b, x, y)\n",
    "print(w, b, loss)\n",
    "plt.scatter(x,y)\n",
    "plt.plot(x, prediction, 'g-')"
   ]
  }
 ],
 "metadata": {
  "kernelspec": {
   "display_name": "Python 3",
   "language": "python",
   "name": "python3"
  },
  "language_info": {
   "codemirror_mode": {
    "name": "ipython",
    "version": 3
   },
   "file_extension": ".py",
   "mimetype": "text/x-python",
   "name": "python",
   "nbconvert_exporter": "python",
   "pygments_lexer": "ipython3",
   "version": "3.8.5"
  }
 },
 "nbformat": 4,
 "nbformat_minor": 4
}
